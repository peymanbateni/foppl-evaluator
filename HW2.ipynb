{
 "cells": [
  {
   "cell_type": "code",
   "execution_count": 1,
   "metadata": {},
   "outputs": [],
   "source": [
    "import pickle\n",
    "import matplotlib.pyplot as plt\n",
    "import numpy as np\n",
    "import torch"
   ]
  },
  {
   "cell_type": "code",
   "execution_count": 2,
   "metadata": {},
   "outputs": [],
   "source": [
    "with open(\"graph_based_samples.pk\", \"rb+\") as f:\n",
    "    samples = pickle.load(f)"
   ]
  },
  {
   "cell_type": "code",
   "execution_count": 3,
   "metadata": {},
   "outputs": [
    {
     "name": "stdout",
     "output_type": "stream",
     "text": [
      "Marginal Expectation of Mu 1.0026548 with variance 5.077325\n"
     ]
    },
    {
     "data": {
      "image/png": "[encoded data removed]",
      "text/plain": [
       "<Figure size 432x288 with 1 Axes>"
      ]
     },
     "metadata": {
      "needs_background": "light"
     },
     "output_type": "display_data"
    }
   ],
   "source": [
    "# test 1\n",
    "test_1_samples = torch.FloatTensor(samples[1]).numpy()\n",
    "\n",
    "plt.hist(test_1_samples, density=True, bins=30)\n",
    "plt.ylabel('Probability')\n",
    "plt.xlabel('Mu')\n",
    "plt.title('Test 1 - Mu Histogram')\n",
    "plt.savefig(\"Test 1 - Mu Histogram.pdf\", bbox_inches='tight')\n",
    "\n",
    "print(\"Marginal Expectation of Mu\", test_1_samples.mean(), \"with variance\", test_1_samples.var())"
   ]
  },
  {
   "cell_type": "code",
   "execution_count": 4,
   "metadata": {},
   "outputs": [
    {
     "name": "stdout",
     "output_type": "stream",
     "text": [
      "Marginal Expectation of Slope -0.10412149 with variance 101.27962\n"
     ]
    },
    {
     "data": {
      "image/png": "[encoded data removed]",
      "text/plain": [
       "<Figure size 432x288 with 1 Axes>"
      ]
     },
     "metadata": {
      "needs_background": "light"
     },
     "output_type": "display_data"
    }
   ],
   "source": [
    "# test 2\n",
    "test_2_samples = torch.stack(samples[2]).numpy()\n",
    "\n",
    "# slope\n",
    "plt.hist(test_2_samples[:,0], density=True, bins=30)\n",
    "plt.ylabel('Probability')\n",
    "plt.xlabel('Slope')\n",
    "plt.title('Test 2 - Slope Histogram')\n",
    "plt.savefig(\"Test 2 - Slope Histogram.pdf\", bbox_inches='tight')\n",
    "\n",
    "print(\"Marginal Expectation of Slope\", test_2_samples[:,0].mean(), \"with variance\", test_2_samples[:,0].var())"
   ]
  },
  {
   "cell_type": "code",
   "execution_count": 5,
   "metadata": {},
   "outputs": [
    {
     "name": "stdout",
     "output_type": "stream",
     "text": [
      "Marginal Expectation of Bias 0.17948408 with variance 96.52464\n"
     ]
    },
    {
     "data": {
      "image/png": "[encoded data removed]",
      "text/plain": [
       "<Figure size 432x288 with 1 Axes>"
      ]
     },
     "metadata": {
      "needs_background": "light"
     },
     "output_type": "display_data"
    }
   ],
   "source": [
    "# bias\n",
    "plt.hist(test_2_samples[:,1], density=True, bins=30)\n",
    "plt.ylabel('Probability')\n",
    "plt.xlabel('Bias')\n",
    "plt.title('Test 2 - Bias Histogram')\n",
    "plt.savefig(\"Test 2 - Bias Histogram.pdf\", bbox_inches='tight')\n",
    "\n",
    "print(\"Marginal Expectation of Bias\", test_2_samples[:,1].mean(), \"with variance\", test_2_samples[:,1].var())"
   ]
  },
  {
   "cell_type": "code",
   "execution_count": 6,
   "metadata": {},
   "outputs": [
    {
     "name": "stdout",
     "output_type": "stream",
     "text": [
      "Marginal Expectation of State 1 0.978 with variance 0.68751603\n",
      "Marginal Expectation of State 2 1.412 with variance 0.578256\n",
      "Marginal Expectation of State 3 1.465 with variance 0.54277503\n",
      "Marginal Expectation of State 4 1.492 with variance 0.545936\n",
      "Marginal Expectation of State 5 1.509 with variance 0.527919\n",
      "Marginal Expectation of State 6 1.488 with variance 0.555856\n",
      "Marginal Expectation of State 7 1.449 with variance 0.555399\n",
      "Marginal Expectation of State 8 1.438 with variance 0.594156\n",
      "Marginal Expectation of State 9 1.485 with variance 0.543775\n",
      "Marginal Expectation of State 10 1.458 with variance 0.58223605\n",
      "Marginal Expectation of State 11 1.463 with variance 0.5586311\n",
      "Marginal Expectation of State 12 1.489 with variance 0.5438789\n",
      "Marginal Expectation of State 13 1.474 with variance 0.54932404\n",
      "Marginal Expectation of State 14 1.521 with variance 0.529559\n",
      "Marginal Expectation of State 15 1.465 with variance 0.552775\n",
      "Marginal Expectation of State 16 1.482 with variance 0.5296759\n",
      "Marginal Expectation of State 17 1.442 with variance 0.58063596\n"
     ]
    },
    {
     "data": {
      "text/plain": [
       "<Figure size 432x288 with 0 Axes>"
      ]
     },
     "metadata": {},
     "output_type": "display_data"
    }
   ],
   "source": [
    "# test 3\n",
    "\n",
    "test_3_samples = torch.stack(samples[3]).numpy()\n",
    "\n",
    "for i in range(17):\n",
    "    plt.hist(test_3_samples[:,i], density=True, bins=30)\n",
    "    plt.ylabel('Probability')\n",
    "    plt.xlabel('State ' + str(i+1))\n",
    "    plt.title('Test 3 - State ' + str(i+1) + ' Histogram')\n",
    "    plt.savefig(\"Test 3 - State \" + str(i+1) + \" Histogram.pdf\", bbox_inches='tight')\n",
    "    plt.clf()\n",
    "    print(\"Marginal Expectation of State \" + str(i+1), test_3_samples[:,i].mean(), \"with variance\", test_3_samples[:,i].var())"
   ]
  },
  {
   "cell_type": "code",
   "execution_count": 7,
   "metadata": {},
   "outputs": [],
   "source": [
    "# test 4\n",
    "\n",
    "test_4_samples = samples[4]\n",
    "\n",
    "W_0 = [] \n",
    "b_0 = []\n",
    "W_1 = []\n",
    "b_1 = []\n",
    "\n",
    "for sample in test_4_samples:\n",
    "    W_0.append(sample[0])\n",
    "    b_0.append(sample[1])\n",
    "    W_1.append(sample[2])\n",
    "    b_1.append(sample[3])\n",
    "    \n",
    "W_0 = torch.stack(W_0).numpy()\n",
    "b_0 = torch.stack(b_0).numpy()\n",
    "W_1 = torch.stack(W_1).numpy()\n",
    "b_1 = torch.stack(b_1).numpy()"
   ]
  },
  {
   "cell_type": "code",
   "execution_count": 8,
   "metadata": {},
   "outputs": [
    {
     "name": "stdout",
     "output_type": "stream",
     "text": [
      "Marginal Expectation of W_0 dim 0 0.02340636 with variance 1.0716399\n",
      "Marginal Expectation of W_0 dim 1 0.032846175 with variance 1.024982\n",
      "Marginal Expectation of W_0 dim 2 0.07208207 with variance 1.0238289\n",
      "Marginal Expectation of W_0 dim 3 0.041430447 with variance 0.95289916\n",
      "Marginal Expectation of W_0 dim 4 -0.0048789443 with variance 0.9917682\n",
      "Marginal Expectation of W_0 dim 5 -0.034191832 with variance 0.98052746\n",
      "Marginal Expectation of W_0 dim 6 -0.011655647 with variance 1.0017326\n",
      "Marginal Expectation of W_0 dim 7 -0.042624436 with variance 1.0377115\n",
      "Marginal Expectation of W_0 dim 8 -0.019158855 with variance 0.9838678\n",
      "Marginal Expectation of W_0 dim 9 -0.057184953 with variance 1.0634128\n"
     ]
    },
    {
     "data": {
      "image/png": "[encoded data removed]",
      "text/plain": [
       "<Figure size 432x288 with 1 Axes>"
      ]
     },
     "metadata": {
      "needs_background": "light"
     },
     "output_type": "display_data"
    }
   ],
   "source": [
    "# W_0\n",
    "plt.imshow(W_0[np.newaxis,:,:].mean(1), cmap='hot', interpolation='nearest')\n",
    "plt.title('Test 4 - W_0 Mean Heatmap')\n",
    "plt.savefig(\"Test 4 - W_0 Mean Heatmap.pdf\", bbox_inches='tight')\n",
    "plt.clf()\n",
    "\n",
    "plt.imshow(W_0[np.newaxis,:,:].var(1), cmap='hot', interpolation='nearest')\n",
    "plt.title('Test 4 - W_0 Variance Heatmap')\n",
    "plt.savefig(\"Test 4 - W_0 Variance Heatmap.pdf\", bbox_inches='tight')\n",
    "\n",
    "for i in range(len(W_0[0])):\n",
    "    print(\"Marginal Expectation of W_0 dim \" + str(i), W_0[:,i].mean(), \"with variance\", W_0[:,i].var())"
   ]
  },
  {
   "cell_type": "code",
   "execution_count": 9,
   "metadata": {},
   "outputs": [
    {
     "name": "stdout",
     "output_type": "stream",
     "text": [
      "Marginal Expectation of b_0 dim 0 0.014964731 with variance 0.96273106\n",
      "Marginal Expectation of b_0 dim 1 -0.01648519 with variance 1.0043901\n",
      "Marginal Expectation of b_0 dim 2 -0.01259235 with variance 0.9525697\n",
      "Marginal Expectation of b_0 dim 3 -0.017753536 with variance 0.96763927\n",
      "Marginal Expectation of b_0 dim 4 -0.029211594 with variance 1.0195607\n",
      "Marginal Expectation of b_0 dim 5 0.023069458 with variance 1.0771694\n",
      "Marginal Expectation of b_0 dim 6 0.009829318 with variance 1.0196898\n",
      "Marginal Expectation of b_0 dim 7 0.03284435 with variance 0.9510258\n",
      "Marginal Expectation of b_0 dim 8 0.03968051 with variance 0.92927855\n",
      "Marginal Expectation of b_0 dim 9 0.02605112 with variance 1.0068574\n"
     ]
    },
    {
     "data": {
      "image/png": "[encoded data removed]",
      "text/plain": [
       "<Figure size 432x288 with 1 Axes>"
      ]
     },
     "metadata": {
      "needs_background": "light"
     },
     "output_type": "display_data"
    }
   ],
   "source": [
    "# b_0\n",
    "plt.imshow(b_0[np.newaxis,:,:].mean(1), cmap='hot', interpolation='nearest')\n",
    "plt.title('Test 4 - b_0 Mean Heatmap')\n",
    "plt.savefig(\"Test 4 - b_0 Mean Heatmap.pdf\", bbox_inches='tight')\n",
    "plt.clf()\n",
    "\n",
    "plt.imshow(b_0[np.newaxis,:,:].var(1), cmap='hot', interpolation='nearest')\n",
    "plt.title('Test 4 - b_0 Variance Heatmap')\n",
    "plt.savefig(\"Test 4 - b_0 Variance Heatmap.pdf\", bbox_inches='tight')\n",
    "\n",
    "for i in range(len(b_0[0])):\n",
    "    print(\"Marginal Expectation of b_0 dim \" + str(i), b_0[:,i].mean(), \"with variance\", b_0[:,i].var())"
   ]
  },
  {
   "cell_type": "code",
   "execution_count": 10,
   "metadata": {},
   "outputs": [
    {
     "name": "stdout",
     "output_type": "stream",
     "text": [
      "Marginal Expectation of W_0 dim 0,0 0.0048238747 with variance 1.0126898\n",
      "Marginal Expectation of W_0 dim 0,1 -0.011762016 with variance 1.0126898\n",
      "Marginal Expectation of W_0 dim 0,2 -0.0037124034 with variance 1.0126898\n",
      "Marginal Expectation of W_0 dim 0,3 -0.032007903 with variance 1.0126898\n",
      "Marginal Expectation of W_0 dim 0,4 0.05739663 with variance 1.0126898\n",
      "Marginal Expectation of W_0 dim 0,5 0.062239796 with variance 1.0126898\n",
      "Marginal Expectation of W_0 dim 0,6 -0.015430642 with variance 1.0126898\n",
      "Marginal Expectation of W_0 dim 0,7 -0.051271904 with variance 1.0126898\n",
      "Marginal Expectation of W_0 dim 0,8 0.011038839 with variance 1.0126898\n",
      "Marginal Expectation of W_0 dim 0,9 0.04526886 with variance 1.0126898\n",
      "Marginal Expectation of W_0 dim 1,0 0.03878228 with variance 0.98460525\n",
      "Marginal Expectation of W_0 dim 1,1 -0.042065352 with variance 0.98460525\n",
      "Marginal Expectation of W_0 dim 1,2 -0.004951244 with variance 0.98460525\n",
      "Marginal Expectation of W_0 dim 1,3 0.023371365 with variance 0.98460525\n",
      "Marginal Expectation of W_0 dim 1,4 0.011774327 with variance 0.98460525\n",
      "Marginal Expectation of W_0 dim 1,5 -0.015665699 with variance 0.98460525\n",
      "Marginal Expectation of W_0 dim 1,6 -0.009404953 with variance 0.98460525\n",
      "Marginal Expectation of W_0 dim 1,7 0.0055956068 with variance 0.98460525\n",
      "Marginal Expectation of W_0 dim 1,8 0.029636811 with variance 0.98460525\n",
      "Marginal Expectation of W_0 dim 1,9 0.018223353 with variance 0.98460525\n",
      "Marginal Expectation of W_0 dim 2,0 -0.016929423 with variance 1.0005268\n",
      "Marginal Expectation of W_0 dim 2,1 0.044241805 with variance 1.0005268\n",
      "Marginal Expectation of W_0 dim 2,2 -0.033556763 with variance 1.0005268\n",
      "Marginal Expectation of W_0 dim 2,3 -0.04740013 with variance 1.0005268\n",
      "Marginal Expectation of W_0 dim 2,4 0.060726922 with variance 1.0005268\n",
      "Marginal Expectation of W_0 dim 2,5 0.029713001 with variance 1.0005268\n",
      "Marginal Expectation of W_0 dim 2,6 -0.039608374 with variance 1.0005268\n",
      "Marginal Expectation of W_0 dim 2,7 -0.013305603 with variance 1.0005268\n",
      "Marginal Expectation of W_0 dim 2,8 0.03602567 with variance 1.0005268\n",
      "Marginal Expectation of W_0 dim 2,9 -0.02622615 with variance 1.0005268\n",
      "Marginal Expectation of W_0 dim 3,0 -0.0053140083 with variance 0.98189944\n",
      "Marginal Expectation of W_0 dim 3,1 0.03313601 with variance 0.98189944\n",
      "Marginal Expectation of W_0 dim 3,2 0.0130716935 with variance 0.98189944\n",
      "Marginal Expectation of W_0 dim 3,3 0.0106653 with variance 0.98189944\n",
      "Marginal Expectation of W_0 dim 3,4 0.078506656 with variance 0.98189944\n",
      "Marginal Expectation of W_0 dim 3,5 0.045284692 with variance 0.98189944\n",
      "Marginal Expectation of W_0 dim 3,6 -0.07926935 with variance 0.98189944\n",
      "Marginal Expectation of W_0 dim 3,7 0.020685714 with variance 0.98189944\n",
      "Marginal Expectation of W_0 dim 3,8 -0.046087097 with variance 0.98189944\n",
      "Marginal Expectation of W_0 dim 3,9 -0.013016648 with variance 0.98189944\n",
      "Marginal Expectation of W_0 dim 4,0 0.0076399134 with variance 0.9988208\n",
      "Marginal Expectation of W_0 dim 4,1 -0.020787403 with variance 0.9988208\n",
      "Marginal Expectation of W_0 dim 4,2 0.029675076 with variance 0.9988208\n",
      "Marginal Expectation of W_0 dim 4,3 0.048379198 with variance 0.9988208\n",
      "Marginal Expectation of W_0 dim 4,4 0.09424489 with variance 0.9988208\n",
      "Marginal Expectation of W_0 dim 4,5 -0.0009027481 with variance 0.9988208\n",
      "Marginal Expectation of W_0 dim 4,6 0.07197443 with variance 0.9988208\n",
      "Marginal Expectation of W_0 dim 4,7 -0.059029233 with variance 0.9988208\n",
      "Marginal Expectation of W_0 dim 4,8 0.052105036 with variance 0.9988208\n",
      "Marginal Expectation of W_0 dim 4,9 -0.06595128 with variance 0.9988208\n",
      "Marginal Expectation of W_0 dim 5,0 -0.0034303875 with variance 1.0034502\n",
      "Marginal Expectation of W_0 dim 5,1 -0.06960001 with variance 1.0034502\n",
      "Marginal Expectation of W_0 dim 5,2 0.016588189 with variance 1.0034502\n",
      "Marginal Expectation of W_0 dim 5,3 -0.01561597 with variance 1.0034502\n",
      "Marginal Expectation of W_0 dim 5,4 0.044508062 with variance 1.0034502\n",
      "Marginal Expectation of W_0 dim 5,5 -0.025411079 with variance 1.0034502\n",
      "Marginal Expectation of W_0 dim 5,6 0.03093021 with variance 1.0034502\n",
      "Marginal Expectation of W_0 dim 5,7 0.024805635 with variance 1.0034502\n",
      "Marginal Expectation of W_0 dim 5,8 0.029588593 with variance 1.0034502\n",
      "Marginal Expectation of W_0 dim 5,9 -0.049969826 with variance 1.0034502\n",
      "Marginal Expectation of W_0 dim 6,0 0.025425214 with variance 1.0016888\n",
      "Marginal Expectation of W_0 dim 6,1 0.0026286526 with variance 1.0016888\n",
      "Marginal Expectation of W_0 dim 6,2 -0.013207299 with variance 1.0016888\n",
      "Marginal Expectation of W_0 dim 6,3 0.042401187 with variance 1.0016888\n",
      "Marginal Expectation of W_0 dim 6,4 0.05897097 with variance 1.0016888\n",
      "Marginal Expectation of W_0 dim 6,5 0.03827428 with variance 1.0016888\n",
      "Marginal Expectation of W_0 dim 6,6 0.050965108 with variance 1.0016888\n",
      "Marginal Expectation of W_0 dim 6,7 -0.0064689214 with variance 1.0016888\n",
      "Marginal Expectation of W_0 dim 6,8 0.011030555 with variance 1.0016888\n",
      "Marginal Expectation of W_0 dim 6,9 -0.016526172 with variance 1.0016888\n",
      "Marginal Expectation of W_0 dim 7,0 -0.01420262 with variance 0.98509\n",
      "Marginal Expectation of W_0 dim 7,1 -0.04830766 with variance 0.98509\n",
      "Marginal Expectation of W_0 dim 7,2 0.017226227 with variance 0.98509\n",
      "Marginal Expectation of W_0 dim 7,3 0.02555208 with variance 0.98509\n",
      "Marginal Expectation of W_0 dim 7,4 -0.012417653 with variance 0.98509\n",
      "Marginal Expectation of W_0 dim 7,5 0.015638048 with variance 0.98509\n",
      "Marginal Expectation of W_0 dim 7,6 0.030697655 with variance 0.98509\n",
      "Marginal Expectation of W_0 dim 7,7 0.04660032 with variance 0.98509\n",
      "Marginal Expectation of W_0 dim 7,8 -0.0013821602 with variance 0.98509\n",
      "Marginal Expectation of W_0 dim 7,9 -0.052353475 with variance 0.98509\n",
      "Marginal Expectation of W_0 dim 8,0 0.0378106 with variance 1.0032915\n",
      "Marginal Expectation of W_0 dim 8,1 -0.036518667 with variance 1.0032915\n",
      "Marginal Expectation of W_0 dim 8,2 0.060164228 with variance 1.0032915\n",
      "Marginal Expectation of W_0 dim 8,3 -0.011037482 with variance 1.0032915\n",
      "Marginal Expectation of W_0 dim 8,4 -0.023493633 with variance 1.0032915\n",
      "Marginal Expectation of W_0 dim 8,5 -0.025037654 with variance 1.0032915\n",
      "Marginal Expectation of W_0 dim 8,6 0.0011583385 with variance 1.0032915\n",
      "Marginal Expectation of W_0 dim 8,7 0.016287822 with variance 1.0032915\n",
      "Marginal Expectation of W_0 dim 8,8 -0.010910797 with variance 1.0032915\n",
      "Marginal Expectation of W_0 dim 8,9 0.044923585 with variance 1.0032915\n",
      "Marginal Expectation of W_0 dim 9,0 -0.04015292 with variance 0.98886406\n",
      "Marginal Expectation of W_0 dim 9,1 -0.04752021 with variance 0.98886406\n",
      "Marginal Expectation of W_0 dim 9,2 0.0078965705 with variance 0.98886406\n",
      "Marginal Expectation of W_0 dim 9,3 0.007727585 with variance 0.98886406\n",
      "Marginal Expectation of W_0 dim 9,4 0.032174278 with variance 0.98886406\n",
      "Marginal Expectation of W_0 dim 9,5 -0.0018960271 with variance 0.98886406\n",
      "Marginal Expectation of W_0 dim 9,6 0.023956826 with variance 0.98886406\n",
      "Marginal Expectation of W_0 dim 9,7 -0.0020487346 with variance 0.98886406\n",
      "Marginal Expectation of W_0 dim 9,8 -0.003159942 with variance 0.98886406\n",
      "Marginal Expectation of W_0 dim 9,9 -0.0069404696 with variance 0.98886406\n"
     ]
    },
    {
     "data": {
      "image/png": "[encoded data removed]",
      "text/plain": [
       "<Figure size 432x288 with 1 Axes>"
      ]
     },
     "metadata": {
      "needs_background": "light"
     },
     "output_type": "display_data"
    }
   ],
   "source": [
    "# W_1\n",
    "plt.imshow(W_1.mean(0), cmap='hot', interpolation='nearest')\n",
    "plt.title('Test 4 - W_1 Mean Heatmap')\n",
    "plt.savefig(\"Test 4 - W_1 Mean Heatmap.pdf\", bbox_inches='tight')\n",
    "plt.clf()\n",
    "\n",
    "plt.imshow(W_1.var(0), cmap='hot', interpolation='nearest')\n",
    "plt.title('Test 4 - W_1 Variance Heatmap')\n",
    "plt.savefig(\"Test 4 - W_1 Variance Heatmap.pdf\", bbox_inches='tight')\n",
    "\n",
    "for i in range(W_1.shape[1]):\n",
    "    for j in range(W_1.shape[2]):\n",
    "        print(\"Marginal Expectation of W_0 dim \" + str(i) + \",\" + str(j), W_1[:,i,j].mean(), \"with variance\", W_1[:,i].var())"
   ]
  },
  {
   "cell_type": "code",
   "execution_count": 11,
   "metadata": {},
   "outputs": [
    {
     "name": "stdout",
     "output_type": "stream",
     "text": [
      "Marginal Expectation of b_0 dim 0 0.014003006 with variance 0.9930682\n",
      "Marginal Expectation of b_0 dim 1 -0.00037599946 with variance 0.9972568\n",
      "Marginal Expectation of b_0 dim 2 0.016396014 with variance 0.949074\n",
      "Marginal Expectation of b_0 dim 3 0.024411034 with variance 1.0670257\n",
      "Marginal Expectation of b_0 dim 4 -0.02084182 with variance 1.0371497\n",
      "Marginal Expectation of b_0 dim 5 -0.002539343 with variance 1.0566691\n",
      "Marginal Expectation of b_0 dim 6 0.050666306 with variance 0.95839345\n",
      "Marginal Expectation of b_0 dim 7 -0.022092888 with variance 1.0175389\n",
      "Marginal Expectation of b_0 dim 8 -0.029606262 with variance 0.95883286\n",
      "Marginal Expectation of b_0 dim 9 -0.010952528 with variance 0.9847263\n"
     ]
    },
    {
     "data": {
      "image/png": "[encoded data removed]",
      "text/plain": [
       "<Figure size 432x288 with 1 Axes>"
      ]
     },
     "metadata": {
      "needs_background": "light"
     },
     "output_type": "display_data"
    }
   ],
   "source": [
    "# b_1\n",
    "plt.imshow(b_1[np.newaxis,:,:].mean(1), cmap='hot', interpolation='nearest')\n",
    "plt.title('Test 4 - b_1 Mean Heatmap')\n",
    "plt.savefig(\"Test 4 - b_1 Mean Heatmap.pdf\", bbox_inches='tight')\n",
    "plt.clf()\n",
    "\n",
    "plt.imshow(b_1[np.newaxis,:,:].var(1), cmap='hot', interpolation='nearest')\n",
    "plt.title('Test 4 - b_1 Variance Heatmap')\n",
    "plt.savefig(\"Test 4 - b_1 Variance Heatmap.pdf\", bbox_inches='tight')\n",
    "\n",
    "for i in range(len(b_1[0])):\n",
    "    print(\"Marginal Expectation of b_0 dim \" + str(i), b_1[:,i].mean(), \"with variance\", b_1[:,i].var())"
   ]
  },
  {
   "cell_type": "code",
   "execution_count": null,
   "metadata": {},
   "outputs": [],
   "source": []
  }
 ],
 "metadata": {
  "kernelspec": {
   "display_name": "Python 3",
   "language": "python",
   "name": "python3"
  },
  "language_info": {
   "codemirror_mode": {
    "name": "ipython",
    "version": 3
   },
   "file_extension": ".py",
   "mimetype": "text/x-python",
   "name": "python",
   "nbconvert_exporter": "python",
   "pygments_lexer": "ipython3",
   "version": "3.7.6"
  }
 },
 "nbformat": 4,
 "nbformat_minor": 4
}
